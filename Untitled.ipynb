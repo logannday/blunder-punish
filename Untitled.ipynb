{
 "cells": [
  {
   "cell_type": "code",
   "execution_count": 1,
   "id": "0a8dfcdd",
   "metadata": {},
   "outputs": [
    {
     "name": "stdout",
     "output_type": "stream",
     "text": [
      "Requirement already satisfied: chess in /opt/anaconda3/lib/python3.9/site-packages (1.9.4)\r\n"
     ]
    }
   ],
   "source": [
    "!pip install chess"
   ]
  },
  {
   "cell_type": "code",
   "execution_count": 2,
   "id": "550449a7",
   "metadata": {},
   "outputs": [],
   "source": [
    "import chess\n",
    "board = chess.Board()"
   ]
  },
  {
   "cell_type": "code",
   "execution_count": 3,
   "id": "9bc0f4f9",
   "metadata": {},
   "outputs": [
    {
     "data": {
      "text/plain": [
       "<LegalMoveGenerator at 0x7fc279173430 (Nh3, Nf3, Nc3, Na3, h3, g3, f3, e3, d3, c3, b3, a3, h4, g4, f4, e4, d4, c4, b4, a4)>"
      ]
     },
     "execution_count": 3,
     "metadata": {},
     "output_type": "execute_result"
    }
   ],
   "source": [
    "board.legal_moves"
   ]
  },
  {
   "cell_type": "code",
   "execution_count": 4,
   "id": "eea7269f",
   "metadata": {},
   "outputs": [
    {
     "name": "stdout",
     "output_type": "stream",
     "text": [
      "r n b q k b n r\n",
      "p p p p p p p p\n",
      ". . . . . . . .\n",
      ". . . . . . . .\n",
      ". . . . . . . .\n",
      ". . . . . . . .\n",
      "P P P P P P P P\n",
      "R N B Q K B N R\n"
     ]
    }
   ],
   "source": [
    "print(board)"
   ]
  },
  {
   "cell_type": "code",
   "execution_count": null,
   "id": "2433ba7d",
   "metadata": {},
   "outputs": [],
   "source": []
  }
 ],
 "metadata": {
  "kernelspec": {
   "display_name": "Python 3 (ipykernel)",
   "language": "python",
   "name": "python3"
  },
  "language_info": {
   "codemirror_mode": {
    "name": "ipython",
    "version": 3
   },
   "file_extension": ".py",
   "mimetype": "text/x-python",
   "name": "python",
   "nbconvert_exporter": "python",
   "pygments_lexer": "ipython3",
   "version": "3.9.13"
  }
 },
 "nbformat": 4,
 "nbformat_minor": 5
}
